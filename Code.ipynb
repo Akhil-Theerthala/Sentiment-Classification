{
 "cells": [
  {
   "cell_type": "code",
   "execution_count": 1,
   "metadata": {},
   "outputs": [],
   "source": [
    "#Data Modules\n",
    "import pandas as pd\n",
    "import numpy as np\n",
    "import matplotlib.pyplot as plt\n",
    "from string import punctuation\n",
    "\n",
    "#Pytorch\n",
    "import torch\n",
    "from torch import nn,optim"
   ]
  },
  {
   "cell_type": "code",
   "execution_count": 2,
   "metadata": {},
   "outputs": [],
   "source": [
    "# Reding the txt files\n",
    "with open('Data/reviews.txt','r') as f:\n",
    "    reviews = f.read()\n",
    "with open('Data/labels.txt','r') as f:\n",
    "    labels = f.read()"
   ]
  },
  {
   "cell_type": "code",
   "execution_count": 3,
   "metadata": {},
   "outputs": [
    {
     "name": "stdout",
     "output_type": "stream",
     "text": [
      "bromwell high is a cartoon comedy . it ran at the same time as some other programs about school life  such as  teachers  . my   years in the teaching profession lead me to believe that bromwell high  \n",
      "......\n",
      "positive\n",
      "negative\n",
      "positive\n",
      "negative\n",
      "positive\n",
      "negative\n",
      "positive\n"
     ]
    }
   ],
   "source": [
    "print(reviews[:200])\n",
    "print('......')\n",
    "print(labels[:62])"
   ]
  },
  {
   "cell_type": "code",
   "execution_count": 4,
   "metadata": {},
   "outputs": [],
   "source": [
    "reviews = reviews.lower()\n",
    "labels = labels.lower()"
   ]
  },
  {
   "cell_type": "markdown",
   "metadata": {},
   "source": [
    "### Data Pre-processing"
   ]
  },
  {
   "cell_type": "code",
   "execution_count": 5,
   "metadata": {},
   "outputs": [
    {
     "name": "stdout",
     "output_type": "stream",
     "text": [
      "True\n",
      "False\n"
     ]
    },
    {
     "data": {
      "text/plain": [
       "['bromwell', 'high', 'is', 'a', 'cartoon', 'comedy', 'it', 'ran', 'at', 'the']"
      ]
     },
     "execution_count": 5,
     "metadata": {},
     "output_type": "execute_result"
    }
   ],
   "source": [
    "#Removing Puntuations\n",
    "reviews = ''.join([c for c in reviews if c not in punctuation])\n",
    "\n",
    "print('\\n' in reviews)\n",
    "\n",
    "#creating a list of reviews\n",
    "reviews_split = reviews.split('\\n')\n",
    "reviews= ''.join(reviews_split)\n",
    "\n",
    "print('\\n' in reviews)\n",
    "\n",
    "# Creating a list of all the words in the file.\n",
    "words = reviews.split()\n",
    "words[:10]"
   ]
  },
  {
   "cell_type": "markdown",
   "metadata": {},
   "source": [
    "Encoding the words"
   ]
  },
  {
   "cell_type": "code",
   "execution_count": 6,
   "metadata": {},
   "outputs": [
    {
     "name": "stdout",
     "output_type": "stream",
     "text": [
      "Unique Words: 74072\n"
     ]
    }
   ],
   "source": [
    "from collections import Counter\n",
    "# Getting the words in the most frequent order\n",
    "c= Counter(words)\n",
    "vocab = sorted(c, key=c.get,reverse=True)\n",
    "#Creatng a vocab_to_int dictionary for future reference\n",
    "vocab_to_int = {word:i for i,word in enumerate(vocab,1)}\n",
    "print('Unique Words:',len(vocab_to_int))\n",
    "\n",
    "#Creating a list of indices for each word in each review\n",
    "review_ints = []\n",
    "for review in reviews_split:\n",
    "    review_ints.append([vocab_to_int[word] for word in review.split()])\n"
   ]
  },
  {
   "cell_type": "code",
   "execution_count": 7,
   "metadata": {},
   "outputs": [
    {
     "data": {
      "text/plain": [
       "[1, 0, 1, 0, 1, 0, 1, 0, 1, 0]"
      ]
     },
     "execution_count": 7,
     "metadata": {},
     "output_type": "execute_result"
    }
   ],
   "source": [
    "#Encoding the labels\n",
    "labels = labels.split('\\n')\n",
    "encoded_labels = [0 if i =='negative' else 1 for i in labels]\n",
    "encoded_labels[:10]"
   ]
  },
  {
   "cell_type": "code",
   "execution_count": 8,
   "metadata": {},
   "outputs": [
    {
     "name": "stdout",
     "output_type": "stream",
     "text": [
      "25001\n",
      "25001\n"
     ]
    }
   ],
   "source": [
    "print(len(review_ints))\n",
    "print(len(encoded_labels))"
   ]
  },
  {
   "cell_type": "code",
   "execution_count": 9,
   "metadata": {},
   "outputs": [
    {
     "name": "stdout",
     "output_type": "stream",
     "text": [
      "no. of reviews before the processing:25001\n",
      "no. of reviews after the processing:25000\n"
     ]
    }
   ],
   "source": [
    "# Removing Zero length reviews\n",
    "print(f'no. of reviews before the processing:{len(review_ints)}')\n",
    "\n",
    "zero_len_idx = [i for i,review in enumerate(review_ints) if len(review) == 0]\n",
    "review_ints = [review_ints[i] for i in range(len(review_ints)) if i not in zero_len_idx]\n",
    "encoded_labels = [encoded_labels[i] for i in range(len(encoded_labels)) if i not in zero_len_idx]\n",
    "\n",
    "print(f'no. of reviews after the processing:{len(review_ints)}')"
   ]
  },
  {
   "cell_type": "code",
   "execution_count": 14,
   "metadata": {},
   "outputs": [],
   "source": [
    "#Padding the reviews so that, all reviews have same lengths.\n",
    "def pad_features(review_ints, seq_length=200):\n",
    "    features=[]\n",
    "    for review in review_ints:   \n",
    "        if len(review)<=seq_length:\n",
    "            temp = [0]*seq_length\n",
    "            temp[seq_length-len(review):] = review\n",
    "            features.append(temp)\n",
    "        elif len(review) > seq_length:\n",
    "            features.append(review[:seq_length])\n",
    "\n",
    "    return features\n"
   ]
  },
  {
   "cell_type": "code",
   "execution_count": 15,
   "metadata": {},
   "outputs": [
    {
     "name": "stdout",
     "output_type": "stream",
     "text": [
      "[[0, 0, 1, 2, 3], [1, 2, 3, 4, 5]]\n"
     ]
    }
   ],
   "source": [
    "test_review_ints = [[1,2,3],[1,2,3,4,5,6,7,8,9,10]]\n",
    "temp_seq_len = 5\n",
    "temp_features = pad_features(test_review_ints,temp_seq_len)\n",
    "print([i for i in temp_features])"
   ]
  },
  {
   "cell_type": "code",
   "execution_count": 16,
   "metadata": {},
   "outputs": [
    {
     "name": "stdout",
     "output_type": "stream",
     "text": [
      "25000\n",
      "25000\n"
     ]
    }
   ],
   "source": [
    "seq_len=250\n",
    "\n",
    "features = pad_features(review_ints=review_ints,seq_length=seq_len)\n",
    "print({len(review_ints)})\n",
    "print(len(features))"
   ]
  },
  {
   "cell_type": "code",
   "execution_count": null,
   "metadata": {},
   "outputs": [],
   "source": []
  }
 ],
 "metadata": {
  "interpreter": {
   "hash": "b0f18ce3f39c1e5ac77cd0f736ad77d935cb92d7a25fb751628ed8f5364e312d"
  },
  "kernelspec": {
   "display_name": "Python 3.10.0 ('data')",
   "language": "python",
   "name": "python3"
  },
  "language_info": {
   "codemirror_mode": {
    "name": "ipython",
    "version": 3
   },
   "file_extension": ".py",
   "mimetype": "text/x-python",
   "name": "python",
   "nbconvert_exporter": "python",
   "pygments_lexer": "ipython3",
   "version": "3.10.0"
  },
  "orig_nbformat": 4
 },
 "nbformat": 4,
 "nbformat_minor": 2
}
